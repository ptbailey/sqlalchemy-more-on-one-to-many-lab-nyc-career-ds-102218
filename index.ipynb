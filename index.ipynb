{
 "cells": [
  {
   "cell_type": "markdown",
   "metadata": {},
   "source": [
    "# SQLAlchemy One to Many Lab Continued"
   ]
  },
  {
   "cell_type": "markdown",
   "metadata": {},
   "source": [
    "## Objectives\n",
    "\n",
    "1.  Create multiple \"has many\"/\"belongs to\" relationships with SQLAlchemy\n",
    "2.  Add data to the database for each table and ensure that the data is properly related to other tables\n",
    "3.  Query the database containing the \"has many\"/\"belongs to\" relationships"
   ]
  },
  {
   "cell_type": "markdown",
   "metadata": {},
   "source": [
    "## Sports, Players, Teams, Cities\n",
    "Okay, so, we have just finished creating our first has many / belongs to relationship. Now lets take it a step further and add in another layer, since, domains adn relationships will generally be bigger than just two tables. Let's look at sports teams. One sports team will have many players. But what does our sports team belong to? Specifically, what is a sports team affiliated with that other sports teams may also be affiliated with? A City? That's right! But wait! Can't a team also belong to a specific sport? That's also right! This is analagous to a song belonging to a particular genre, but that can get a bit tricky when we get into songs that are chill electro pop funk -- that's too many genres!!\n",
    "\n",
    "Back to our sports. Let's build these models out in our **models.py** file. The models below list the attributes each should contain as well as its relationship to other models. Our job is to take this information and create the SQLAlchemy tables.\n",
    "\n",
    "> **Note:** Because we are going to leverage the relationships between these tables, there is no need for us duplicate information accross tables. For example, players do not need to be instantiated with the name of the team they play for as long as they are related with that team. However, we will want to be able to query a player instance for their team. Be sure to create your tables so that they provide this functionality for all relationships.\n",
    "\n",
    "* **Players**:\n",
    "    - Name\n",
    "    - Number (if applicable)\n",
    "    - Height\n",
    "    - Weight\n",
    "    - *Belongs to a team*\n",
    "    \n",
    "* **Teams**:\n",
    "    - Name\n",
    "    - *Belongs to a city*    \n",
    "    - *Belongs to a sport*\n",
    "    - *Has many players*    \n",
    "\n",
    "* **Sports**:\n",
    "    - Name\n",
    "    - *Has many teams*    \n",
    "\n",
    "* **City**:\n",
    "    - Name\n",
    "    - State\n",
    "    - *Has many teams*    \n"
   ]
  },
  {
   "cell_type": "markdown",
   "metadata": {},
   "source": [
    "## Instructions\n",
    "\n",
    "1. In the **models.py** file, create the SQLAlchemy schema and for each of our models.\n",
    "2. The two cities we will be working with are New York, New York, and Los Angeles, California\n",
    "3. The two sports we will be working with are Basketball and Baseball\n",
    "4. We have provided for us csv files containing the roster data for the LA Lakers, LA Dodgers, NY Knicks, and NY Yankees. Read these files using pandas to turn this data into objects we can use to populate our tables. Remember to also create the appropriate relationships as we create the class instance objects and commit them to the tables in our data base.\n",
    "5. Once the data has been created and our relationships are set up, we can go ahead an start working on our queries. Open the **queries.py** file and fill out the functions with the necessary code to meet the deliverables.\n"
   ]
  },
  {
   "cell_type": "code",
   "execution_count": 1,
   "metadata": {},
   "outputs": [],
   "source": [
    "from sqlalchemy import *\n",
    "from sqlalchemy.ext.declarative import declarative_base\n",
    "from sqlalchemy.orm import sessionmaker, relationship\n",
    "\n",
    "Base = declarative_base()\n",
    "\n",
    "\n",
    "# write the Player, City, Sport and Team tables below\n",
    "class Player(Base):\n",
    "    __tablename__ = 'players'\n",
    "    id = Column(Integer, primary_key = True)\n",
    "    name = Column(String)\n",
    "    number = Column(Integer)\n",
    "    height = Column(Integer)\n",
    "    weight = Column(Integer)\n",
    "    age = Column(Integer)\n",
    "    team_id = Column(Integer, ForeignKey('teams.id'))\n",
    "    team = relationship('Teams', back_populates = 'roster')\n",
    "\n",
    "class Sports(Base):\n",
    "    __tablename__ = 'sports'\n",
    "    id = Column(Integer, primary_key = True)\n",
    "    name = Column(String)\n",
    "    teams = relationship('Teams', back_populates = 'sport')\n",
    "\n",
    "class City(Base):\n",
    "    __tablename__ = 'city'\n",
    "    id = Column(Integer, primary_key = True)\n",
    "    name = Column(String)\n",
    "    state = Column(String)\n",
    "    teams = relationship('Teams', back_populates = 'city')\n",
    "\n",
    "class Teams(Base):\n",
    "    __tablename__ = 'teams'\n",
    "    id = Column(Integer, primary_key = True)\n",
    "    name = Column(String)\n",
    "    city_id = Column(Integer, ForeignKey('city.id'))\n",
    "    city = relationship('City', back_populates = 'teams' )\n",
    "    sport_id = Column(Integer, ForeignKey('sports.id'))\n",
    "    sport = relationship('Sports', back_populates = 'teams')\n",
    "    roster = relationship(Player, back_populates = 'team')\n",
    "\n",
    "\n",
    "\n",
    "engine = create_engine('sqlite:///sports.db')\n",
    "Base.metadata.create_all(engine)\n"
   ]
  },
  {
   "cell_type": "code",
   "execution_count": 3,
   "metadata": {},
   "outputs": [],
   "source": [
    "from models import *\n",
    "from sqlalchemy import create_engine\n",
    "import pandas as pd\n",
    "\n",
    "engine = create_engine('sqlite:///sports.db')\n",
    "\n",
    "Session = sessionmaker(bind = engine)\n",
    "session = Session()\n",
    "\n",
    "# below we are reading the csv files to create the data we will need to create the players\n",
    "# pandas returns a DataFrame object from reading the CSV\n",
    "# we then tell the DataFrame object to turn each row into dictionaries\n",
    "# by giving to_dict the argument \"orient='records'\"\n",
    "# we are telling our DataFrame to make each row a dictionary using the column headers\n",
    "# as the keys for the key value pairs in each new dictionary\n",
    "# feel free to uncomment lines 18-21 to see each step of the process in your terminal\n",
    "# ____ example ______\n",
    "# la_dodgers0 = pd.read_csv('la_dodgers_baseball.csv')\n",
    "# la_dodgers1 = pd.read_csv('la_dodgers_baseball.csv').to_dict()\n",
    "# la_dodgers2 = pd.read_csv('la_dodgers_baseball.csv').to_dict(orient='records')\n",
    "# import pdb; pdb.set_trace()\n",
    "# __________________\n",
    "la_dodgers = pd.read_csv('la_dodgers_baseball.csv').to_dict(orient='records')\n",
    "la_lakers = pd.read_csv('la_lakers_basketball.csv').to_dict(orient='records')\n",
    "ny_yankees = pd.read_csv('ny_yankees_baseball.csv').to_dict(orient='records')\n",
    "ny_knicks = pd.read_csv('ny_knicks_basketball.csv').to_dict(orient='records')\n",
    "\n",
    "#Istantiate Cities\n",
    "ny = City(name = 'New York', state = 'NY')\n",
    "la = City(name = 'Los Angeles', state = 'CA')\n",
    "cities = [ny,la]\n",
    "\n",
    "#Istantiate Sports\n",
    "basketball = Sports(name = 'Basketball')\n",
    "baseball = Sports(name = 'Baseball')\n",
    "sports = [basketball,baseball]\n",
    "\n",
    "#Istantiate Teams\n",
    "la_dodgers_team = Teams(name = 'LA Dodgers', city = la, sport = baseball)\n",
    "la_lakers_team = Teams(name = 'LA Lakers', city = la, sport = basketball)\n",
    "ny_yankees_team = Teams(name = 'NY Yankees', city = ny, sport = baseball)\n",
    "ny_knicks_team = Teams(name = 'NY Knicks', city = ny, sport = basketball)\n",
    "teams = [la_dodgers_team, la_lakers_team, ny_yankees_team, ny_knicks_team]\n",
    "\n",
    "#Istantiate Players\n",
    "def heightconvert(height):\n",
    "    string = ''.join(char for char in height if char.isalnum())\n",
    "    feet = int(string[0])\n",
    "    inches = int(string[1:])\n",
    "    return feet * 12 + inches\n",
    "\n",
    "def create_players(team_data, team):\n",
    "    players_per_team = []\n",
    "    for x in team_data:\n",
    "        player = Player(name=x.get('name'),age = x.get('age', None),\\\n",
    "        number=x.get('number', None), height= heightconvert(x['height']), \\\n",
    "        weight=x.get('weight', None), team = team)\n",
    "        players_per_team.append(player)\n",
    "    return players_per_team\n",
    "\n",
    "dodgers_roster = create_players(la_dodgers,la_dodgers_team)\n",
    "lakers_roster = create_players(la_lakers, la_lakers_team)\n",
    "yankees_roster = create_players(ny_yankees, ny_yankees_team)\n",
    "knicks_roster = create_players(ny_knicks, ny_knicks_team)\n",
    "\n",
    "session.add_all(dodgers_roster)\n",
    "session.add_all(lakers_roster)\n",
    "session.add_all(yankees_roster)\n",
    "session.add_all(knicks_roster)\n",
    "session.add_all(teams)\n",
    "session.add_all(sports)\n",
    "session.add_all(cities)\n",
    "\n",
    "session.commit()\n",
    "\n",
    "# now that we have the data for each player\n",
    "# add and commit the players, teams, sports and cities below\n",
    "# we will need to probably write at least one function to iterate over our data and create the players\n",
    "# hint: it may be a good idea to creat the Teams, Cities, and Sports first\n"
   ]
  },
  {
   "cell_type": "code",
   "execution_count": 4,
   "metadata": {},
   "outputs": [],
   "source": [
    "def return_all_players_in_los_angeles():\n",
    "    # here we want to return all players that are associated with\n",
    "    # a sports team in LA\n",
    "    return session.query(Player).join(Teams).filter(Teams.city == la).all()"
   ]
  },
  {
   "cell_type": "code",
   "execution_count": 5,
   "metadata": {},
   "outputs": [
    {
     "data": {
      "text/plain": [
       "{'_sa_instance_state': <sqlalchemy.orm.state.InstanceState at 0x11558de10>,\n",
       " 'team_id': 1,\n",
       " 'weight': 190,\n",
       " 'number': 75,\n",
       " 'id': 1,\n",
       " 'age': None,\n",
       " 'height': 74,\n",
       " 'name': 'Scott Alexander'}"
      ]
     },
     "execution_count": 5,
     "metadata": {},
     "output_type": "execute_result"
    }
   ],
   "source": [
    "vars((return_all_players_in_los_angeles())[0])"
   ]
  },
  {
   "cell_type": "code",
   "execution_count": 9,
   "metadata": {},
   "outputs": [],
   "source": [
    "def return_tallest_player_in_los_angeles():\n",
    "    # here we want to return the tallest player associted with\n",
    "    # a sports team in LA\n",
    "    la_players = return_all_players_in_los_angeles()\n",
    "    return max(list(map(lambda player: player.height,la_players)))\n",
    "#     obj_height_dict = {player:player.height for player in la_players}\n",
    "#     return max(obj_height_dict, key = obj_height_dict.get)"
   ]
  },
  {
   "cell_type": "code",
   "execution_count": 19,
   "metadata": {},
   "outputs": [],
   "source": [
    "def return_tallest_player_in_los_angeles():\n",
    "    tallest_player = session.query(Player,func.max(Player.height)).join(Teams).join(City).filter(City.name=='Los Angeles').all()\n",
    "    return tallest_player.pop()\n",
    "\n"
   ]
  },
  {
   "cell_type": "code",
   "execution_count": 20,
   "metadata": {},
   "outputs": [
    {
     "data": {
      "text/plain": [
       "(<models.Player at 0x1158924a8>, 85)"
      ]
     },
     "execution_count": 20,
     "metadata": {},
     "output_type": "execute_result"
    }
   ],
   "source": [
    "return_tallest_player_in_los_angeles()"
   ]
  },
  {
   "cell_type": "code",
   "execution_count": null,
   "metadata": {},
   "outputs": [],
   "source": []
  }
 ],
 "metadata": {
  "kernelspec": {
   "display_name": "Python 3",
   "language": "python",
   "name": "python3"
  },
  "language_info": {
   "codemirror_mode": {
    "name": "ipython",
    "version": 3
   },
   "file_extension": ".py",
   "mimetype": "text/x-python",
   "name": "python",
   "nbconvert_exporter": "python",
   "pygments_lexer": "ipython3",
   "version": "3.7.0"
  }
 },
 "nbformat": 4,
 "nbformat_minor": 2
}
